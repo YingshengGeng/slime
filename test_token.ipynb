{
 "cells": [
  {
   "cell_type": "code",
   "execution_count": 5,
   "metadata": {},
   "outputs": [
    {
     "name": "stdout",
     "output_type": "stream",
     "text": [
      "成功读取文件: global_dataset_state_dict_279.pt\n",
      "------------------------------\n",
      "数据类型: <class 'dict'>\n",
      "------------------------------\n",
      "字典中的键 (Keys):\n",
      "sample_offset\n",
      "epoch_id\n",
      "sample_index\n",
      "metadata\n",
      "------------------------------\n",
      "第一个键 'sample_offset' 对应的值的类型是: <class 'int'>\n"
     ]
    }
   ],
   "source": [
    "import torch\n",
    "\n",
    "# 定义你要读取的文件名\n",
    "file_path = 'global_dataset_state_dict_279.pt'\n",
    "\n",
    "try:\n",
    "    # 使用 torch.load() 函数加载文件\n",
    "    # map_location='cpu' 参数是很有用的，特别是当你加载一个在 GPU 上训练和保存的模型，\n",
    "    # 但你当前的环境可能没有 GPU。这能确保模型权重被加载到 CPU 内存中，避免出错。\n",
    "    state_dict = torch.load(file_path, map_location='cpu')\n",
    "\n",
    "    print(f\"成功读取文件: {file_path}\")\n",
    "    print(\"-\" * 30)\n",
    "\n",
    "    # state_dict 是一个字典，你可以像操作普通 Python 字典一样操作它。\n",
    "    # 1. 打印 state_dict 的类型\n",
    "    print(f\"数据类型: {type(state_dict)}\")\n",
    "    print(\"-\" * 30)\n",
    "\n",
    "    # 2. 打印字典中所有的键 (keys)，这能让你了解文件中存储了哪些内容。\n",
    "    #    在模型文件中，键通常是模型层的名称（例如 'conv1.weight', 'fc2.bias'）。\n",
    "    print(\"字典中的键 (Keys):\")\n",
    "    for key in state_dict.keys():\n",
    "        print(key)\n",
    "    print(\"-\" * 30)\n",
    "\n",
    "    # 3. 检查某个特定键对应的值的形状 (shape)\n",
    "    #    随机选择一个键来查看，或者选择一个你感兴趣的键。\n",
    "    if state_dict:\n",
    "        first_key = list(state_dict.keys())[0]\n",
    "        first_value = state_dict[first_key]\n",
    "        # 检查值的类型，通常是 torch.Tensor\n",
    "        print(f\"第一个键 '{first_key}' 对应的值的类型是: {type(first_value)}\")\n",
    "        # 打印张量的形状\n",
    "        if isinstance(first_value, torch.Tensor):\n",
    "            print(f\"第一个键 '{first_key}' 对应张量的形状是: {first_value.shape}\")\n",
    "\n",
    "except FileNotFoundError:\n",
    "    print(f\"错误: 文件 '{file_path}' 未找到。请确保文件路径正确。\")\n",
    "except Exception as e:\n",
    "    print(f\"读取文件时发生错误: {e}\")"
   ]
  },
  {
   "cell_type": "code",
   "execution_count": 6,
   "metadata": {},
   "outputs": [
    {
     "data": {
      "text/plain": [
       "{'sample_offset': 1159, 'epoch_id': 9, 'sample_index': 547328, 'metadata': {}}"
      ]
     },
     "execution_count": 6,
     "metadata": {},
     "output_type": "execute_result"
    }
   ],
   "source": [
    "state_dict"
   ]
  },
  {
   "cell_type": "code",
   "execution_count": null,
   "metadata": {},
   "outputs": [],
   "source": [
    "\n",
    "PYTHONPATH=/root/Megatron-LM python tools/convert_torch_dist_to_hf.py \\\n",
    "  --input-dir /apdcephfs/private_ethangeng/Qwen3-4B_slime/iter_0000499/ \\\n",
    "  --output-dir /apdcephfs/private_ethangeng/Qwen3-4B_slime_hf/iter_0000499/ \\\n",
    "  --vocab-size 151936\\\n",
    "  --origin-hf-dir /root/Qwen3-4B"
   ]
  }
 ],
 "metadata": {
  "kernelspec": {
   "display_name": "ibroker",
   "language": "python",
   "name": "python3"
  },
  "language_info": {
   "codemirror_mode": {
    "name": "ipython",
    "version": 3
   },
   "file_extension": ".py",
   "mimetype": "text/x-python",
   "name": "python",
   "nbconvert_exporter": "python",
   "pygments_lexer": "ipython3",
   "version": "3.12.10"
  }
 },
 "nbformat": 4,
 "nbformat_minor": 2
}
